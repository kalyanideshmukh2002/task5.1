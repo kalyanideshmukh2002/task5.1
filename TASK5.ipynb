{
 "cells": [
  {
   "cell_type": "code",
   "execution_count": 1,
   "id": "0c5ce3ff",
   "metadata": {},
   "outputs": [],
   "source": [
    "import tkinter as tk\n",
    "from tkinter import messagebox\n",
    "\n",
    "class Question:\n",
    "    def __init__(self, prompt, options, correct_option):\n",
    "        self.prompt = prompt\n",
    "        self.options = options\n",
    "        self.correct_option = correct_option\n",
    "\n",
    "class QuizApp:\n",
    "    def __init__(self, root, questions):\n",
    "        self.root = root\n",
    "        self.questions = questions\n",
    "        self.current_question = 0\n",
    "        self.score = 0\n",
    "\n",
    "        self.question_label = tk.Label(root, text=\"\")\n",
    "        self.question_label.pack(pady=10)\n",
    "\n",
    "        self.option_buttons = []\n",
    "        for i in range(4):\n",
    "            button = tk.Button(root, text=\"\", command=lambda i=i: self.check_answer(i))\n",
    "            self.option_buttons.append(button)\n",
    "            button.pack()\n",
    "\n",
    "        self.next_question()\n",
    "\n",
    "    def next_question(self):\n",
    "        if self.current_question < len(self.questions):\n",
    "            question = self.questions[self.current_question]\n",
    "            self.question_label.config(text=question.prompt)\n",
    "            for i, option in enumerate(question.options):\n",
    "                self.option_buttons[i].config(text=option)\n",
    "            self.current_question += 1\n",
    "        else:\n",
    "            self.show_score()\n",
    "\n",
    "    def check_answer(self, selected_option):\n",
    "        question = self.questions[self.current_question - 1]\n",
    "        if selected_option == question.correct_option:\n",
    "            self.score += 1\n",
    "\n",
    "        self.next_question()\n",
    "\n",
    "    def show_score(self):\n",
    "        messagebox.showinfo(\"Quiz Finished\", f\"You scored {self.score} out of {len(self.questions)}\")\n",
    "\n",
    "def main():\n",
    "    questions = [\n",
    "        Question(\"What is the capital of France?\", [\"London\", \"Paris\", \"Berlin\"], 1),\n",
    "        Question(\"Which planet is known as the 'Red Planet'?\", [\"Mars\", \"Venus\", \"Jupiter\"], 0),\n",
    "        Question(\"What is the largest mammal?\", [\"Elephant\", \"Blue Whale\", \"Giraffe\"], 1),\n",
    "    ]\n",
    "\n",
    "    root = tk.Tk()\n",
    "    root.title(\"Quiz Game\")\n",
    "    app = QuizApp(root, questions)\n",
    "    root.mainloop()\n",
    "\n",
    "if __name__ == \"__main__\":\n",
    "    main()"
   ]
  },
  {
   "cell_type": "code",
   "execution_count": null,
   "id": "55d3d25e",
   "metadata": {},
   "outputs": [],
   "source": []
  },
  {
   "cell_type": "code",
   "execution_count": null,
   "id": "c71cf1c5",
   "metadata": {},
   "outputs": [],
   "source": []
  },
  {
   "cell_type": "code",
   "execution_count": null,
   "id": "b262ebd7",
   "metadata": {},
   "outputs": [],
   "source": []
  }
 ],
 "metadata": {
  "kernelspec": {
   "display_name": "Python 3 (ipykernel)",
   "language": "python",
   "name": "python3"
  },
  "language_info": {
   "codemirror_mode": {
    "name": "ipython",
    "version": 3
   },
   "file_extension": ".py",
   "mimetype": "text/x-python",
   "name": "python",
   "nbconvert_exporter": "python",
   "pygments_lexer": "ipython3",
   "version": "3.10.9"
  }
 },
 "nbformat": 4,
 "nbformat_minor": 5
}
